{
 "cells": [
  {
   "cell_type": "markdown",
   "metadata": {},
   "source": [
    "# Removing duplicates using python"
   ]
  },
  {
   "cell_type": "markdown",
   "metadata": {},
   "source": [
    "This can be done using the following methods:\n",
    "* Naive method - In naive method, we simply traverse the list and append the first occurrence of the element in new list and ignore all the other occurrences of that particular element.\n",
    "\n",
    "* Using list comprehension - This method has working similar to the above method, but this is just a one-liner shorthand of longer method done with the help of list comprehension.\n",
    "\n",
    "* Using set() - This is the most popular way by which the duplicated are removed from the list. But the main and notable drawback of this approach is that the ordering of the element is lost in this particular method.\n",
    "\n",
    "* Using list comprehension + enumerate() - list comprehension coupled with enumerate function can also achieve this task. It basically looks for already occurred elements and skips adding them. It preserves the list ordering.\n",
    "\n",
    "* Using collections.OrderedDict.fromkeys() - This is fastest method to achieve the particular task. It first removes the duplicates and returns a dictionary which has to be converted to list. This works well in case of strings also."
   ]
  },
  {
   "cell_type": "code",
   "execution_count": 3,
   "metadata": {},
   "outputs": [
    {
     "name": "stdout",
     "output_type": "stream",
     "text": [
      "Original list:  [1, 3, 7, 2, 7, 5, 3, 8, 1, 4, 8, 6]\n",
      "New list without duplicates:  [1, 3, 7, 2, 5, 8, 4, 6]\n"
     ]
    }
   ],
   "source": [
    "demo_list = [1, 3, 7, 2, 7, 5, 3, 8, 1, 4, 8, 6]\n",
    "print(\"Original list: \", demo_list)\n",
    "\n",
    "# now using the naive method to remove duplicates\n",
    "new_list = []\n",
    "for n in demo_list:\n",
    "    if n not in new_list:\n",
    "        new_list.append(n)\n",
    "# printing new list\n",
    "print(\"New list without duplicates: \", new_list)"
   ]
  },
  {
   "cell_type": "code",
   "execution_count": 1,
   "metadata": {},
   "outputs": [
    {
     "name": "stdout",
     "output_type": "stream",
     "text": [
      "Original list:  [1, 3, 7, 2, 7, 5, 3, 8, 1, 4, 8, 6]\n",
      "New list without duplicates:  [1, 3, 7, 2, 5, 8, 4, 6]\n"
     ]
    }
   ],
   "source": [
    "demo_list = [1, 3, 7, 2, 7, 5, 3, 8, 1, 4, 8, 6]\n",
    "print(\"Original list: \", demo_list)\n",
    "\n",
    "# now using the list comprehension method to remove duplicates\n",
    "new_list = []\n",
    "[new_list.append(n) for n in demo_list if n not in new_list]\n",
    "\n",
    "print(\"New list without duplicates: \", new_list)"
   ]
  },
  {
   "cell_type": "code",
   "execution_count": 1,
   "metadata": {},
   "outputs": [
    {
     "name": "stdout",
     "output_type": "stream",
     "text": [
      "Original list:  [1, 3, 7, 2, 7, 5, 3, 8, 1, 4, 8, 6]\n",
      "New list without duplicates:  [1, 2, 3, 4, 5, 6, 7, 8]\n"
     ]
    }
   ],
   "source": [
    "demo_list = [1, 3, 7, 2, 7, 5, 3, 8, 1, 4, 8, 6]\n",
    "print(\"Original list: \", demo_list)\n",
    "\n",
    "# now using the set() method to remove duplicates\n",
    "# converting the original list into a set which doesn't store duplicate records and then converting the set back to a list \n",
    "new_list = list(set(demo_list))\n",
    "\n",
    "print(\"New list without duplicates: \", new_list)"
   ]
  },
  {
   "cell_type": "markdown",
   "metadata": {},
   "source": [
    ">> To make it more clearer"
   ]
  },
  {
   "cell_type": "code",
   "execution_count": 2,
   "metadata": {},
   "outputs": [
    {
     "name": "stdout",
     "output_type": "stream",
     "text": [
      "Original list:  [1, 3, 7, 2, 7, 5, 3, 8, 1, 4, 8, 6]\n",
      "The set after converting the list:  {1, 2, 3, 4, 5, 6, 7, 8}\n",
      "New list without duplicates:  [1, 2, 3, 4, 5, 6, 7, 8]\n"
     ]
    }
   ],
   "source": [
    "demo_list = [1, 3, 7, 2, 7, 5, 3, 8, 1, 4, 8, 6]\n",
    "print(\"Original list: \", demo_list)\n",
    "\n",
    "# converting list to a set first which doesn't allow duplicate records & printing\n",
    "new_set_list = set(demo_list)\n",
    "print(\"The set after converting the list: \", new_set_list)\n",
    "\n",
    "# converting set back into a list and printing\n",
    "new_list = list(new_set_list)\n",
    "\n",
    "print(\"New list without duplicates: \", new_list)"
   ]
  },
  {
   "cell_type": "code",
   "execution_count": 3,
   "metadata": {},
   "outputs": [
    {
     "name": "stdout",
     "output_type": "stream",
     "text": [
      "Original list:  [1, 3, 7, 2, 7, 5, 3, 8, 1, 4, 8, 6]\n",
      "New list without duplicates:  [1, 3, 7, 2, 5, 8, 4, 6]\n"
     ]
    }
   ],
   "source": [
    "demo_list = [1, 3, 7, 2, 7, 5, 3, 8, 1, 4, 8, 6]\n",
    "print(\"Original list: \", demo_list)\n",
    "\n",
    "new_list = [i for n, i in enumerate(demo_list) if i not in demo_list[:n]]\n",
    "print(\"New list without duplicates: \", new_list)"
   ]
  },
  {
   "cell_type": "code",
   "execution_count": 4,
   "metadata": {},
   "outputs": [
    {
     "name": "stdout",
     "output_type": "stream",
     "text": [
      "Original list:  [1, 3, 7, 2, 7, 5, 3, 8, 1, 4, 8, 6]\n",
      "New list without duplicates:  [1, 3, 7, 2, 5, 8, 4, 6]\n"
     ]
    }
   ],
   "source": [
    "from collections import OrderedDict\n",
    "\n",
    "demo_list = [1, 3, 7, 2, 7, 5, 3, 8, 1, 4, 8, 6]\n",
    "print(\"Original list: \", demo_list)\n",
    "\n",
    "# using collections.OrderedDict.fromkeys()\n",
    "new_list = list(OrderedDict.fromkeys(demo_list))\n",
    "print(\"New list without duplicates: \", new_list)"
   ]
  },
  {
   "cell_type": "markdown",
   "metadata": {},
   "source": [
    ">> more simpler for the above method"
   ]
  },
  {
   "cell_type": "code",
   "execution_count": 8,
   "metadata": {},
   "outputs": [
    {
     "name": "stdout",
     "output_type": "stream",
     "text": [
      "Original list:  [1, 3, 7, 2, 7, 5, 3, 8, 1, 4, 8, 6]\n",
      "The dictionary:  OrderedDict([(1, None), (3, None), (7, None), (2, None), (5, None), (8, None), (4, None), (6, None)])\n",
      "New list without duplicates:  [1, 3, 7, 2, 5, 8, 4, 6]\n"
     ]
    }
   ],
   "source": [
    "from collections import OrderedDict\n",
    "\n",
    "demo_list = [1, 3, 7, 2, 7, 5, 3, 8, 1, 4, 8, 6]\n",
    "print(\"Original list: \", demo_list)\n",
    "\n",
    "# using collections.OrderedDict.fromkeys() to convert list into a dictionary first and printing\n",
    "new_dict = OrderedDict.fromkeys(demo_list)\n",
    "print(\"The dictionary: \", new_dict)\n",
    "\n",
    "# converting the dictionary\n",
    "new_list = list(new_dict)\n",
    "print(\"New list without duplicates: \", new_list)"
   ]
  },
  {
   "cell_type": "code",
   "execution_count": null,
   "metadata": {},
   "outputs": [],
   "source": []
  }
 ],
 "metadata": {
  "interpreter": {
   "hash": "2647ea34e536f865ab67ff9ddee7fd78773d956cec0cab53c79b32cd10da5d83"
  },
  "kernelspec": {
   "display_name": "Python 3 (ipykernel)",
   "language": "python",
   "name": "python3"
  },
  "language_info": {
   "codemirror_mode": {
    "name": "ipython",
    "version": 3
   },
   "file_extension": ".py",
   "mimetype": "text/x-python",
   "name": "python",
   "nbconvert_exporter": "python",
   "pygments_lexer": "ipython3",
   "version": "3.9.5"
  }
 },
 "nbformat": 4,
 "nbformat_minor": 4
}
